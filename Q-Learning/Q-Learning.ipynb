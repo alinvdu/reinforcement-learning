{
 "cells": [
  {
   "cell_type": "code",
   "execution_count": 3,
   "metadata": {},
   "outputs": [],
   "source": [
    "import numpy as np\n",
    "import matplotlib.pyplot as plt\n",
    "\n",
    "import sys\n",
    "sys.path.append('../utils')\n",
    "from GridWorld import get_standard_grid, get_negative_grid\n",
    "from iterative_policy_eval import printValues, printPolicy\n",
    "from monte_carlo_utils import max_dict\n",
    "\n",
    "GAMMA = 0.9\n",
    "ALPHA = 0.1\n",
    "ACTIONS = ('U', 'D', 'L', 'R')"
   ]
  },
  {
   "cell_type": "code",
   "execution_count": 4,
   "metadata": {},
   "outputs": [],
   "source": [
    "def epsilon_greedy(Q, s, eps=0.1):\n",
    "    if np.random.random() < eps:\n",
    "        return np.random.choice(ACTIONS)\n",
    "    else:\n",
    "        a_opt = max_dict(Q[s])[0]\n",
    "        return a_opt"
   ]
  },
  {
   "cell_type": "code",
   "execution_count": 7,
   "metadata": {},
   "outputs": [
    {
     "name": "stdout",
     "output_type": "stream",
     "text": [
      "rewards:\n",
      "-------------------------\n",
      "-0.10|-0.10|-0.10| 1.00|\n",
      "-------------------------\n",
      "-0.10| 0.00|-0.10|-1.00|\n",
      "-------------------------\n",
      "-0.10|-0.10|-0.10|-0.10|\n",
      "it: 0\n",
      "it: 2000\n",
      "it: 4000\n",
      "it: 6000\n",
      "it: 8000\n"
     ]
    },
    {
     "data": {
      "image/png": "[encoded data removed]",
      "text/plain": [
       "<Figure size 432x288 with 1 Axes>"
      ]
     },
     "metadata": {
      "needs_background": "light"
     },
     "output_type": "display_data"
    },
    {
     "name": "stdout",
     "output_type": "stream",
     "text": [
      "update counts:\n",
      "-------------------------\n",
      " 0.01| 0.01| 0.19| 0.00|\n",
      "-------------------------\n",
      " 0.01| 0.00| 0.19| 0.00|\n",
      "-------------------------\n",
      " 0.20| 0.20| 0.20| 0.01|\n",
      "values:\n",
      "-------------------------\n",
      " 0.62| 0.80| 1.00| 0.00|\n",
      "-------------------------\n",
      " 0.46| 0.00| 0.80| 0.00|\n",
      "-------------------------\n",
      " 0.31| 0.46| 0.62| 0.46|\n",
      "policy:\n",
      "-------------------------\n",
      " R | R | R |   |\n",
      "-------------------------\n",
      " U |   | U |   |\n",
      "-------------------------\n",
      " R | R | U | L |\n"
     ]
    }
   ],
   "source": [
    "grid = get_negative_grid(step_cost=-.1)\n",
    "\n",
    "print(\"rewards:\")\n",
    "printValues(grid.rewards, grid)\n",
    "\n",
    "Q = {}\n",
    "states = grid.all_states()\n",
    "for s in states:\n",
    "    Q[s] = {}\n",
    "    for a in ACTIONS:\n",
    "        Q[s][a] = 0\n",
    "\n",
    "update_counts = {}\n",
    "reward_per_episode = []\n",
    "\n",
    "for it in range(10000):\n",
    "    if it % 2000 ==0:\n",
    "        print(\"it:\", it)\n",
    "    \n",
    "    s = grid.reset()\n",
    "    episode_reward = 0\n",
    "\n",
    "    while not grid.game_over():\n",
    "        a = epsilon_greedy(Q, s, eps=0.1)\n",
    "        r = grid.move(a)\n",
    "        s2 = grid.current_state()\n",
    "\n",
    "        episode_reward += r\n",
    "        maxQ = max_dict(Q[s2])[1]\n",
    "        Q[s][a] = Q[s][a] + ALPHA * (r + GAMMA * maxQ - Q[s][a])\n",
    "\n",
    "        update_counts[s] = update_counts.get(s, 0) + 1\n",
    "\n",
    "        s = s2\n",
    "\n",
    "    reward_per_episode.append(episode_reward)\n",
    "\n",
    "plt.plot(reward_per_episode)\n",
    "plt.title(\"reward per episode\")\n",
    "plt.show()\n",
    "\n",
    "policy = {}\n",
    "V = {}\n",
    "for s in grid.actions.keys():\n",
    "    a, max_q = max_dict(Q[s])\n",
    "    policy[s] = a\n",
    "    V[s] = max_q\n",
    "\n",
    "print(\"update counts:\")\n",
    "total = np.sum(list(update_counts.values()))\n",
    "for k, v in update_counts.items():\n",
    "    update_counts[k] = float(v) / total\n",
    "printValues(update_counts, grid)\n",
    "\n",
    "print(\"values:\")\n",
    "printValues(V, grid)\n",
    "print(\"policy:\")\n",
    "printPolicy(policy, grid)\n"
   ]
  },
  {
   "cell_type": "code",
   "execution_count": null,
   "metadata": {},
   "outputs": [],
   "source": []
  }
 ],
 "metadata": {
  "kernelspec": {
   "display_name": "Python 3.7.11 ('torch')",
   "language": "python",
   "name": "python3"
  },
  "language_info": {
   "codemirror_mode": {
    "name": "ipython",
    "version": 3
   },
   "file_extension": ".py",
   "mimetype": "text/x-python",
   "name": "python",
   "nbconvert_exporter": "python",
   "pygments_lexer": "ipython3",
   "version": "3.7.11"
  },
  "orig_nbformat": 4,
  "vscode": {
   "interpreter": {
    "hash": "b286441ed6c3e3c023203da23f386b950642fb0c27ba48ad850f4ffe76beefb2"
   }
  }
 },
 "nbformat": 4,
 "nbformat_minor": 2
}
