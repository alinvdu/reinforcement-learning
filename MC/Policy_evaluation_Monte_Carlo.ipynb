{
 "cells": [
  {
   "cell_type": "code",
   "execution_count": 1,
   "metadata": {},
   "outputs": [],
   "source": [
    "import numpy as np\n",
    "\n",
    "import sys\n",
    "sys.path.append('../utils')\n",
    "from GridWorld import get_standard_grid, get_negative_grid\n",
    "from iterative_policy_eval import printValues, printPolicy\n",
    "\n",
    "GAMMA = 0.9"
   ]
  },
  {
   "cell_type": "code",
   "execution_count": 2,
   "metadata": {},
   "outputs": [],
   "source": [
    "def playGame(grid, policy, max_steps=20):\n",
    "    # returnss a lisst of states and corresponding rewards\n",
    "    startStates = list(grid.actions.keys())\n",
    "    startIdx = np.random.choice(len(startStates))\n",
    "    grid.set_state(startStates[startIdx])\n",
    "\n",
    "    s = grid.current_state()\n",
    "\n",
    "    states = [s]\n",
    "    rewards = [0] # if we don't do this rewards and states will be missaligned\n",
    "\n",
    "    steps = 0\n",
    "    while not grid.game_over():\n",
    "        a = policy[s]\n",
    "        r = grid.move(a)\n",
    "        next_s = grid.current_state()\n",
    "\n",
    "        states.append(next_s)\n",
    "        rewards.append(r)\n",
    "\n",
    "        steps += 1\n",
    "        if steps >= max_steps:\n",
    "            break\n",
    "\n",
    "        s = next_s\n",
    "\n",
    "    return states, rewards"
   ]
  },
  {
   "cell_type": "code",
   "execution_count": 3,
   "metadata": {},
   "outputs": [
    {
     "name": "stdout",
     "output_type": "stream",
     "text": [
      "rewards:\n",
      "-------------------------\n",
      " 0.00| 0.00| 0.00| 1.00|\n",
      "-------------------------\n",
      " 0.00| 0.00| 0.00|-1.00|\n",
      "-------------------------\n",
      " 0.00| 0.00| 0.00| 0.00|\n",
      "values:\n",
      "-------------------------\n",
      " 0.81| 0.90| 1.00| 0.00|\n",
      "-------------------------\n",
      " 0.73| 0.00|-1.00| 0.00|\n",
      "-------------------------\n",
      " 0.66|-0.81|-0.90|-1.00|\n",
      "policy:\n",
      "-------------------------\n",
      " R | R | R |   |\n",
      "-------------------------\n",
      " U |   | R |   |\n",
      "-------------------------\n",
      " U | R | R | U |\n"
     ]
    }
   ],
   "source": [
    "grid = get_standard_grid()\n",
    "\n",
    "print(\"rewards:\")\n",
    "printValues(grid.rewards, grid)\n",
    "\n",
    "policy = {\n",
    "    (2, 0): 'U',\n",
    "    (1, 0): 'U',\n",
    "    (0, 0): 'R',\n",
    "    (0, 1): 'R',\n",
    "    (0, 2): 'R',\n",
    "    (1, 2): 'R',\n",
    "    (2, 1): 'R',\n",
    "    (2, 2): 'R',\n",
    "    (2, 3): 'U'\n",
    "}\n",
    "\n",
    "# initialize V(s) and returns\n",
    "V = {}\n",
    "returns = {}\n",
    "states = grid.all_states()\n",
    "for s in states:\n",
    "    if s in grid.actions:\n",
    "        returns[s] = []\n",
    "    else:\n",
    "        V[s] = 0\n",
    "\n",
    "for t in range(100):\n",
    "    states, rewards = playGame(grid, policy)\n",
    "    G = 0\n",
    "    T = len(states)\n",
    "    for t in range(T-2, -1, -1):\n",
    "        s = states[t]\n",
    "        r = rewards[t+1]\n",
    "        G = r + GAMMA * G\n",
    "\n",
    "        if s not in states[:t]:\n",
    "            returns[s].append(G)\n",
    "            V[s] = np.mean(returns[s])\n",
    "\n",
    "print(\"values:\")\n",
    "printValues(V, grid)\n",
    "\n",
    "print(\"policy:\")\n",
    "printPolicy(policy, grid)"
   ]
  },
  {
   "cell_type": "code",
   "execution_count": null,
   "metadata": {},
   "outputs": [],
   "source": []
  }
 ],
 "metadata": {
  "kernelspec": {
   "display_name": "Python 3.10.1 64-bit",
   "language": "python",
   "name": "python3"
  },
  "language_info": {
   "codemirror_mode": {
    "name": "ipython",
    "version": 3
   },
   "file_extension": ".py",
   "mimetype": "text/x-python",
   "name": "python",
   "nbconvert_exporter": "python",
   "pygments_lexer": "ipython3",
   "version": "3.10.1"
  },
  "orig_nbformat": 4,
  "vscode": {
   "interpreter": {
    "hash": "369f2c481f4da34e4445cda3fffd2e751bd1c4d706f27375911949ba6bb62e1c"
   }
  }
 },
 "nbformat": 4,
 "nbformat_minor": 2
}
