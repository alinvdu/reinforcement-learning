{
 "cells": [
  {
   "cell_type": "code",
   "execution_count": 1,
   "metadata": {},
   "outputs": [],
   "source": [
    "import numpy as np\n",
    "import matplotlib.pyplot as plt\n",
    "\n",
    "import sys\n",
    "sys.path.append('../utils')\n",
    "from GridWorld import get_standard_grid, get_negative_grid\n",
    "from iterative_policy_eval import printValues, printPolicy\n",
    "\n",
    "GAMMA = 0.9\n",
    "ACTIONS = ('U', 'D', 'L', 'R')\n"
   ]
  },
  {
   "cell_type": "code",
   "execution_count": 2,
   "metadata": {},
   "outputs": [],
   "source": [
    "def playGame(grid, policy, max_steps=20):\n",
    "    # applying exploring starts method\n",
    "    start_states = list(grid.actions.keys())\n",
    "    start_idx = np.random.choice(len(start_states))\n",
    "    grid.set_state(start_states[start_idx])\n",
    "\n",
    "    s = grid.current_state()\n",
    "    a = np.random.choice(ACTIONS)\n",
    "\n",
    "    states = [s]\n",
    "    actions = [a]\n",
    "    rewards = [0]\n",
    "\n",
    "    for _ in range(max_steps):\n",
    "        r = grid.move(a)\n",
    "        s = grid.current_state()\n",
    "\n",
    "        rewards.append(r)\n",
    "        states.append(s)\n",
    "\n",
    "        if grid.game_over():\n",
    "            break\n",
    "        else:\n",
    "            a = policy[s]\n",
    "            actions.append(a)\n",
    "\n",
    "    return states, actions, rewards\n",
    "\n",
    "def max_dict(d):\n",
    "    # returns the argmax key and max value from a dictionary\n",
    "    max_val = max(d.values())\n",
    "    max_keys = [key for key, val in d.items() if val == max_val]\n",
    "\n",
    "    return np.random.choice(max_keys), max_val"
   ]
  },
  {
   "cell_type": "code",
   "execution_count": 3,
   "metadata": {},
   "outputs": [
    {
     "name": "stdout",
     "output_type": "stream",
     "text": [
      "rewards:\n",
      "-------------------------\n",
      " 0.00| 0.00| 0.00| 1.00|\n",
      "-------------------------\n",
      " 0.00| 0.00| 0.00|-1.00|\n",
      "-------------------------\n",
      " 0.00| 0.00| 0.00| 0.00|\n",
      "0\n",
      "1000\n",
      "2000\n",
      "3000\n",
      "4000\n",
      "5000\n",
      "6000\n",
      "7000\n",
      "8000\n",
      "9000\n"
     ]
    },
    {
     "data": {
      "image/png": "[encoded data removed]",
      "text/plain": [
       "<Figure size 432x288 with 1 Axes>"
      ]
     },
     "metadata": {
      "needs_background": "light"
     },
     "output_type": "display_data"
    },
    {
     "name": "stdout",
     "output_type": "stream",
     "text": [
      "final policy:\n",
      "-------------------------\n",
      " R | R | R |   |\n",
      "-------------------------\n",
      " U |   | U |   |\n",
      "-------------------------\n",
      " U | R | U | L |\n",
      "final values:\n",
      "-------------------------\n",
      " 0.81| 0.90| 1.00| 0.00|\n",
      "-------------------------\n",
      " 0.73| 0.00| 0.90| 0.00|\n",
      "-------------------------\n",
      " 0.66| 0.73| 0.81| 0.73|\n"
     ]
    }
   ],
   "source": [
    "grid = get_standard_grid()\n",
    "\n",
    "print(\"rewards:\")\n",
    "printValues(grid.rewards, grid)\n",
    "\n",
    "policy = {}\n",
    "for s in grid.actions.keys():\n",
    "    policy[s] = np.random.choice(ACTIONS)\n",
    "\n",
    "Q = {}\n",
    "sample_counts = {}\n",
    "states = grid.all_states()\n",
    "\n",
    "for s in states:\n",
    "    if s in grid.actions:\n",
    "        Q[s] = {}\n",
    "        sample_counts[s] = {}\n",
    "\n",
    "        for a in ACTIONS:\n",
    "            Q[s][a] = 0\n",
    "            sample_counts[s][a] = 0\n",
    "    else:\n",
    "        pass\n",
    "\n",
    "# repeat until convergence\n",
    "deltas = []\n",
    "for it in range(10000):\n",
    "    if it % 1000 == 0:\n",
    "        print(it)\n",
    "\n",
    "    biggest_change = 0\n",
    "    states, actions, rewards = playGame(grid, policy)\n",
    "\n",
    "    states_actions = list(zip(states, actions))\n",
    "\n",
    "    T = len(states)\n",
    "    G = 0\n",
    "\n",
    "    for t in range(T-2, -1, -1):\n",
    "        s = states[t]\n",
    "        a = actions[t]\n",
    "\n",
    "        G = rewards[t+1] + GAMMA * G\n",
    "\n",
    "        if (s, a) not in states_actions[:t]:\n",
    "            old_q = Q[s][a]\n",
    "            sample_counts[s][a] += 1\n",
    "            lr = 1 / sample_counts[s][a] # learning rate\n",
    "            Q[s][a] = old_q + lr * (G - old_q)\n",
    "\n",
    "            policy[s] = max_dict(Q[s])[0]\n",
    "\n",
    "            biggest_change = max(biggest_change, np.abs(old_q - Q[s][a]))\n",
    "    deltas.append(biggest_change)\n",
    "\n",
    "plt.plot(deltas)\n",
    "plt.show()\n",
    "\n",
    "print(\"final policy:\")\n",
    "printPolicy(policy, grid)\n",
    "\n",
    "V = {}\n",
    "for s, Qs in Q.items():\n",
    "    V[s] = max_dict(Q[s])[1]\n",
    "\n",
    "print(\"final values:\")\n",
    "printValues(V, grid)"
   ]
  },
  {
   "cell_type": "code",
   "execution_count": null,
   "metadata": {},
   "outputs": [],
   "source": []
  }
 ],
 "metadata": {
  "kernelspec": {
   "display_name": "Python 3.7.11 ('torch')",
   "language": "python",
   "name": "python3"
  },
  "language_info": {
   "codemirror_mode": {
    "name": "ipython",
    "version": 3
   },
   "file_extension": ".py",
   "mimetype": "text/x-python",
   "name": "python",
   "nbconvert_exporter": "python",
   "pygments_lexer": "ipython3",
   "version": "3.7.11"
  },
  "orig_nbformat": 4,
  "vscode": {
   "interpreter": {
    "hash": "b286441ed6c3e3c023203da23f386b950642fb0c27ba48ad850f4ffe76beefb2"
   }
  }
 },
 "nbformat": 4,
 "nbformat_minor": 2
}
