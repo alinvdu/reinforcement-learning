{
 "cells": [
  {
   "cell_type": "code",
   "execution_count": 9,
   "metadata": {},
   "outputs": [],
   "source": [
    "import numpy as np\n",
    "import pandas as pd\n",
    "import matplotlib.pyplot as plt\n",
    "from GridWorld import get_negative_grid, get_standard_grid\n",
    "from iterative_policy_eval import printValues, printPolicy\n",
    "\n",
    "GAMMA = 0.9\n",
    "ACTIONS = ('U', 'D', 'L', 'R')"
   ]
  },
  {
   "cell_type": "code",
   "execution_count": 20,
   "metadata": {},
   "outputs": [],
   "source": [
    "def epsilon_greedy(policy, s, eps=0.1):\n",
    "    p = np.random.random()\n",
    "    if p < (1 - eps):\n",
    "        return policy[s]\n",
    "    else:\n",
    "        return np.random.choice(ACTIONS)\n",
    "\n",
    "def playGame(grid, policy, max_steps=20):\n",
    "    s = grid.reset()\n",
    "    a = epsilon_greedy(policy, s)\n",
    "\n",
    "    states = [s]\n",
    "    actions = [a]\n",
    "    rewards = [0]\n",
    "\n",
    "    for _ in range(max_steps):\n",
    "        r = grid.move(a)\n",
    "        s = grid.current_state()\n",
    "\n",
    "        rewards.append(r)\n",
    "        states.append(s)\n",
    "\n",
    "        if grid.game_over():\n",
    "            break\n",
    "        else:\n",
    "            a = epsilon_greedy(policy, s)\n",
    "            actions.append(a)\n",
    "\n",
    "    return states, actions, rewards\n",
    "\n",
    "def max_dict(d):\n",
    "    # returns the argmax key and max value from a dictionary\n",
    "    max_val = max(d.values())\n",
    "    max_keys = [key for key, val in d.items() if val == max_val]\n",
    "\n",
    "    return np.random.choice(max_keys), max_val"
   ]
  },
  {
   "cell_type": "code",
   "execution_count": 29,
   "metadata": {},
   "outputs": [
    {
     "name": "stdout",
     "output_type": "stream",
     "text": [
      "rewards:\n",
      "-------------------------\n",
      " 0.00| 0.00| 0.00| 1.00|\n",
      "-------------------------\n",
      " 0.00| 0.00| 0.00|-1.00|\n",
      "-------------------------\n",
      " 0.00| 0.00| 0.00| 0.00|\n",
      "0\n",
      "1000\n",
      "2000\n",
      "3000\n",
      "4000\n",
      "5000\n",
      "6000\n",
      "7000\n",
      "8000\n",
      "9000\n"
     ]
    },
    {
     "data": {
      "image/png": "[encoded data removed]",
      "text/plain": [
       "<Figure size 432x288 with 1 Axes>"
      ]
     },
     "metadata": {
      "needs_background": "light"
     },
     "output_type": "display_data"
    },
    {
     "name": "stdout",
     "output_type": "stream",
     "text": [
      "final policy:\n",
      "-------------------------\n",
      " R | R | R |   |\n",
      "-------------------------\n",
      " U |   | U |   |\n",
      "-------------------------\n",
      " U | L | L | L |\n",
      "final values:\n",
      "-------------------------\n",
      " 0.79| 0.89| 1.00| 0.00|\n",
      "-------------------------\n",
      " 0.70| 0.00| 0.89| 0.00|\n",
      "-------------------------\n",
      " 0.62| 0.52| 0.35| 0.00|\n",
      "state_sample_count:\n",
      "         0        1        2    3\n",
      "0  10625.0  10586.0  10531.0  0.0\n",
      "1  10708.0      0.0    258.0  0.0\n",
      "2  10907.0    414.0     45.0  9.0\n"
     ]
    }
   ],
   "source": [
    "grid = get_standard_grid()\n",
    "\n",
    "print(\"rewards:\")\n",
    "printValues(grid.rewards, grid)\n",
    "\n",
    "policy = {}\n",
    "for s in grid.actions.keys():\n",
    "    policy[s] = np.random.choice(ACTIONS)\n",
    "\n",
    "Q = {}\n",
    "state_sample_count = {}\n",
    "sample_counts = {}\n",
    "states = grid.all_states()\n",
    "\n",
    "for s in states:\n",
    "    if s in grid.actions:\n",
    "        Q[s] = {}\n",
    "        sample_counts[s] = {}\n",
    "        state_sample_count[s] = 0\n",
    "\n",
    "        for a in ACTIONS:\n",
    "            Q[s][a] = 0\n",
    "            sample_counts[s][a] = 0\n",
    "    else:\n",
    "        pass\n",
    "\n",
    "# repeat until convergence\n",
    "deltas = []\n",
    "for it in range(10000):\n",
    "    if it % 1000 == 0:\n",
    "        print(it)\n",
    "\n",
    "    biggest_change = 0\n",
    "    states, actions, rewards = playGame(grid, policy)\n",
    "\n",
    "    states_actions = list(zip(states, actions))\n",
    "\n",
    "    T = len(states)\n",
    "    G = 0\n",
    "\n",
    "    for t in range(T-2, -1, -1):\n",
    "        s = states[t]\n",
    "        a = actions[t]\n",
    "\n",
    "        G = rewards[t+1] + GAMMA * G\n",
    "\n",
    "        if (s, a) not in states_actions[:t]:\n",
    "            old_q = Q[s][a]\n",
    "            sample_counts[s][a] += 1\n",
    "            lr = 1 / sample_counts[s][a] # learning rate\n",
    "            Q[s][a] = old_q + lr * (G - old_q)\n",
    "\n",
    "            policy[s] = max_dict(Q[s])[0]\n",
    "\n",
    "            state_sample_count[s] += 1\n",
    "\n",
    "            biggest_change = max(biggest_change, np.abs(old_q - Q[s][a]))\n",
    "    deltas.append(biggest_change)\n",
    "\n",
    "plt.plot(deltas)\n",
    "plt.show()\n",
    "\n",
    "print(\"final policy:\")\n",
    "printPolicy(policy, grid)\n",
    "\n",
    "V = {}\n",
    "for s, Qs in Q.items():\n",
    "    V[s] = max_dict(Q[s])[1]\n",
    "\n",
    "print(\"final values:\")\n",
    "printValues(V, grid)\n",
    "\n",
    "print(\"state_sample_count:\")\n",
    "state_sample_count_arr = np.zeros((grid.rows, grid.cols))\n",
    "for i in range(grid.rows):\n",
    "    for j in range(grid.cols):\n",
    "        if (i, j) in state_sample_count:\n",
    "            state_sample_count_arr[i, j] = state_sample_count[(i, j)]\n",
    "\n",
    "df = pd.DataFrame(state_sample_count_arr)\n",
    "print(df)"
   ]
  },
  {
   "cell_type": "code",
   "execution_count": null,
   "metadata": {},
   "outputs": [],
   "source": []
  }
 ],
 "metadata": {
  "kernelspec": {
   "display_name": "Python 3.7.11 ('torch')",
   "language": "python",
   "name": "python3"
  },
  "language_info": {
   "codemirror_mode": {
    "name": "ipython",
    "version": 3
   },
   "file_extension": ".py",
   "mimetype": "text/x-python",
   "name": "python",
   "nbconvert_exporter": "python",
   "pygments_lexer": "ipython3",
   "version": "3.7.11"
  },
  "orig_nbformat": 4,
  "vscode": {
   "interpreter": {
    "hash": "b286441ed6c3e3c023203da23f386b950642fb0c27ba48ad850f4ffe76beefb2"
   }
  }
 },
 "nbformat": 4,
 "nbformat_minor": 2
}
